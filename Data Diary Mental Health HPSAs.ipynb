{
 "cells": [
  {
   "cell_type": "markdown",
   "metadata": {},
   "source": [
    "# Mental Health HPSA data analysis\n",
    "\n",
    "Introduction to Data Analysis, Reporting 2  \n",
    "Group 7: Julia Ingram, Chuqin Jiang, Richard Abbey  \n",
    "\n",
    "This workbook examines a dataset of federally designated mental health healthcare provider shortage areas (HPSAs), downloaded on 10/18/21 from the Health Resources & Service Administration's website (https://data.hrsa.gov/data/download). An explanation of the shortage areas and how they are designated can be found in the federal register, here: https://www.ecfr.gov/current/title-42/chapter-I/subchapter-A/part-5"
   ]
  },
  {
   "cell_type": "code",
   "execution_count": 4,
   "metadata": {},
   "outputs": [],
   "source": [
    "import pandas as pd\n",
    "import numpy as np\n",
    "import matplotlib.pyplot as plt\n",
    "pd.options.display.max_rows = 100\n",
    "pd.options.display.max_columns = 100"
   ]
  },
  {
   "cell_type": "code",
   "execution_count": 5,
   "metadata": {},
   "outputs": [],
   "source": [
    "#Reading in the HPSA file\n",
    "HPSAs = pd.read_csv('BCD_HPSA_FCT_DET_MH.csv')"
   ]
  },
  {
   "cell_type": "markdown",
   "metadata": {},
   "source": [
    "## Data cleaning"
   ]
  },
  {
   "cell_type": "code",
   "execution_count": null,
   "metadata": {
    "scrolled": false
   },
   "outputs": [],
   "source": [
    "HPSAs.dtypes #Understanding the datatypes"
   ]
  },
  {
   "cell_type": "markdown",
   "metadata": {},
   "source": [
    "We'll want the dates as datetime64 so we can work with them"
   ]
  },
  {
   "cell_type": "code",
   "execution_count": 6,
   "metadata": {},
   "outputs": [],
   "source": [
    "HPSAs['HPSA Designation Date'] = HPSAs['HPSA Designation Date'].astype(np.datetime64)\n",
    "HPSAs['Withdrawn Date'] = HPSAs['Withdrawn Date'].astype(np.datetime64)"
   ]
  },
  {
   "cell_type": "markdown",
   "metadata": {},
   "source": [
    "We'll also want the respective 'Year' column for designation date as an integer rather than a string"
   ]
  },
  {
   "cell_type": "code",
   "execution_count": 7,
   "metadata": {},
   "outputs": [],
   "source": [
    "HPSAs['HPSA Designation Year'] = HPSAs['HPSA Designation Year'].astype(int)"
   ]
  },
  {
   "cell_type": "markdown",
   "metadata": {},
   "source": [
    "### Separating different HPSA Types\n",
    "Subsetting the data by type: geographic, population and facility HPSA"
   ]
  },
  {
   "cell_type": "code",
   "execution_count": 8,
   "metadata": {},
   "outputs": [],
   "source": [
    "facilityTypes = ['Correctional Facility', 'Federally Qualified Health Center', 'Federally Qualified Health Center Look A Like',\n",
    "                 'Indian Health Service, Tribal Health, and Urban Indian Health Organizations', 'Rural Health Clinic',\n",
    "                 'Other Facility', 'State Mental Hospital']\n",
    "geoTypes = ['Geographic HPSA', 'High Needs Geographic HPSA']"
   ]
  },
  {
   "cell_type": "code",
   "execution_count": 9,
   "metadata": {},
   "outputs": [],
   "source": [
    "facilityHPSAs = HPSAs[HPSAs['Designation Type'].isin(facilityTypes)==True]\n",
    "geoHPSAs = HPSAs[HPSAs['Designation Type'].isin(geoTypes)==True]\n",
    "popHPSAs = HPSAs[HPSAs['Designation Type']=='HPSA Population']"
   ]
  },
  {
   "cell_type": "markdown",
   "metadata": {},
   "source": [
    "## Answering specific questions"
   ]
  },
  {
   "cell_type": "markdown",
   "metadata": {},
   "source": [
    "### What is the total estimated underserved population at present?\n",
    "\n",
    "Using both HPSA geographic and population designations, which don't geographically overlap, but excluding facilities, which do"
   ]
  },
  {
   "cell_type": "code",
   "execution_count": 10,
   "metadata": {},
   "outputs": [],
   "source": [
    "HPSAsClean = HPSAs.drop_duplicates(subset='HPSA ID')\n",
    "HPSAsClean = HPSAsClean[(HPSAsClean['Designation Type'].isin(geoTypes)==True) | (HPSAsClean['Designation Type']=='HPSA Population')]"
   ]
  },
  {
   "cell_type": "code",
   "execution_count": 11,
   "metadata": {},
   "outputs": [],
   "source": [
    "years = [2015, 2016, 2017, 2018, 2019, 2020, 2021]"
   ]
  },
  {
   "cell_type": "code",
   "execution_count": 12,
   "metadata": {},
   "outputs": [],
   "source": [
    "populationFigs = []\n",
    "for year in years:\n",
    "    value = HPSAsClean[(HPSAsClean['HPSA Designation Year']<=year) \n",
    "                       & ((HPSAsClean['Withdrawn Date']>= np.datetime64(str(year)+'-12-31')) \n",
    "                          |HPSAsClean['Withdrawn Date'].isnull() == True)]['HPSA Designation Population'].sum()\n",
    "    populationFigs.append(value)"
   ]
  },
  {
   "cell_type": "code",
   "execution_count": 13,
   "metadata": {},
   "outputs": [
    {
     "data": {
      "text/plain": [
       "[96923783.0,\n",
       " 105031580.0,\n",
       " 120675494.0,\n",
       " 112816930.0,\n",
       " 114907038.0,\n",
       " 119746344.0,\n",
       " 128691227.0]"
      ]
     },
     "execution_count": 13,
     "metadata": {},
     "output_type": "execute_result"
    }
   ],
   "source": [
    "populationFigs"
   ]
  },
  {
   "cell_type": "markdown",
   "metadata": {},
   "source": [
    "A percent of the total population using \"Population Figs\" was calculated in Excel using population data from World Population Review, then copied into Datawrapper"
   ]
  },
  {
   "cell_type": "markdown",
   "metadata": {},
   "source": [
    "### How many of the non-rural, low-income HPSAs were designated during the pandemic?"
   ]
  },
  {
   "cell_type": "code",
   "execution_count": 14,
   "metadata": {},
   "outputs": [],
   "source": [
    "newLIPops = HPSAs[(HPSAs['Designation Type']=='HPSA Population')\n",
    "                  & (HPSAs['HPSA Designation Date']>=np.datetime64('2020-03-01'))\n",
    "                  & (HPSAs['HPSA Status']=='Designated')\n",
    "                  & (HPSAs['HPSA Population Type'].str.contains('Low Income'))]"
   ]
  },
  {
   "cell_type": "code",
   "execution_count": 15,
   "metadata": {},
   "outputs": [
    {
     "data": {
      "text/plain": [
       "1436"
      ]
     },
     "execution_count": 15,
     "metadata": {},
     "output_type": "execute_result"
    }
   ],
   "source": [
    "len(newLIPops)"
   ]
  },
  {
   "cell_type": "code",
   "execution_count": 16,
   "metadata": {},
   "outputs": [],
   "source": [
    "allLIPops = HPSAs[(HPSAs['Designation Type']=='HPSA Population')\n",
    "                  & (HPSAs['HPSA Status']=='Designated')\n",
    "                  & (HPSAs['HPSA Population Type'].str.contains('Low Income'))]"
   ]
  },
  {
   "cell_type": "code",
   "execution_count": 17,
   "metadata": {},
   "outputs": [
    {
     "data": {
      "text/plain": [
       "2869"
      ]
     },
     "execution_count": 17,
     "metadata": {},
     "output_type": "execute_result"
    }
   ],
   "source": [
    "len(allLIPops)"
   ]
  },
  {
   "cell_type": "code",
   "execution_count": 18,
   "metadata": {},
   "outputs": [
    {
     "data": {
      "text/plain": [
       "0.5005228302544441"
      ]
     },
     "execution_count": 18,
     "metadata": {},
     "output_type": "execute_result"
    }
   ],
   "source": [
    "len(newLIPops)/len(allLIPops)"
   ]
  }
 ],
 "metadata": {
  "kernelspec": {
   "display_name": "Python 3",
   "language": "python",
   "name": "python3"
  },
  "language_info": {
   "codemirror_mode": {
    "name": "ipython",
    "version": 3
   },
   "file_extension": ".py",
   "mimetype": "text/x-python",
   "name": "python",
   "nbconvert_exporter": "python",
   "pygments_lexer": "ipython3",
   "version": "3.7.4"
  }
 },
 "nbformat": 4,
 "nbformat_minor": 2
}
