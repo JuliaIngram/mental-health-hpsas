{
 "cells": [
  {
   "cell_type": "markdown",
   "metadata": {},
   "source": [
    "# Mental Health HPSA data analysis\n",
    "\n",
    "Introduction to Data Analysis, Reporting 2  \n",
    "Group 7: Julia Ingram, Chuqin Jiang, Richard Abbey  \n",
    "\n",
    "This workbook examines a dataset of federally designated mental health healthcare provider shortage areas (HPSAs), downloaded on 10/18/21 from the Health Resources & Service Administration's website (https://data.hrsa.gov/data/download). An explanation of the shortage areas and how they are designated can be found in the federal register, here: https://www.ecfr.gov/current/title-42/chapter-I/subchapter-A/part-5"
   ]
  },
  {
   "cell_type": "code",
   "execution_count": 20,
   "metadata": {},
   "outputs": [],
   "source": [
    "import pandas as pd\n",
    "import numpy as np\n",
    "import matplotlib.pyplot as plt\n",
    "pd.options.display.max_rows = 100\n",
    "pd.options.display.max_columns = 100"
   ]
  },
  {
   "cell_type": "code",
   "execution_count": 5,
   "metadata": {},
   "outputs": [],
   "source": [
    "#Reading in the HPSA file\n",
    "HPSAs = pd.read_csv('BCD_HPSA_FCT_DET_MH.csv')"
   ]
  },
  {
   "cell_type": "markdown",
   "metadata": {},
   "source": [
    "## Data cleaning"
   ]
  },
  {
   "cell_type": "code",
   "execution_count": null,
   "metadata": {
    "scrolled": false
   },
   "outputs": [],
   "source": [
    "HPSAs.dtypes #Understanding the datatypes"
   ]
  },
  {
   "cell_type": "markdown",
   "metadata": {},
   "source": [
    "We'll want the dates as datetime64 so we can work with them"
   ]
  },
  {
   "cell_type": "code",
   "execution_count": 6,
   "metadata": {},
   "outputs": [],
   "source": [
    "HPSAs['HPSA Designation Date'] = HPSAs['HPSA Designation Date'].astype(np.datetime64)\n",
    "HPSAs['Withdrawn Date'] = HPSAs['Withdrawn Date'].astype(np.datetime64)"
   ]
  },
  {
   "cell_type": "markdown",
   "metadata": {},
   "source": [
    "We'll also want the respective 'Year' column for designation date as an integer rather than a string"
   ]
  },
  {
   "cell_type": "code",
   "execution_count": 7,
   "metadata": {},
   "outputs": [],
   "source": [
    "HPSAs['HPSA Designation Year'] = HPSAs['HPSA Designation Year'].astype(int)"
   ]
  },
  {
   "cell_type": "markdown",
   "metadata": {},
   "source": [
    "### Separating different HPSA Types\n",
    "Subsetting the data by type: geographic, population and facility HPSA"
   ]
  },
  {
   "cell_type": "code",
   "execution_count": 8,
   "metadata": {},
   "outputs": [],
   "source": [
    "facilityTypes = ['Correctional Facility', 'Federally Qualified Health Center', 'Federally Qualified Health Center Look A Like',\n",
    "                 'Indian Health Service, Tribal Health, and Urban Indian Health Organizations', 'Rural Health Clinic',\n",
    "                 'Other Facility', 'State Mental Hospital']\n",
    "geoTypes = ['Geographic HPSA', 'High Needs Geographic HPSA']"
   ]
  },
  {
   "cell_type": "code",
   "execution_count": 9,
   "metadata": {},
   "outputs": [],
   "source": [
    "facilityHPSAs = HPSAs[HPSAs['Designation Type'].isin(facilityTypes)==True]\n",
    "geoHPSAs = HPSAs[HPSAs['Designation Type'].isin(geoTypes)==True]\n",
    "popHPSAs = HPSAs[HPSAs['Designation Type']=='HPSA Population']"
   ]
  },
  {
   "cell_type": "markdown",
   "metadata": {},
   "source": [
    "## Answering specific questions"
   ]
  },
  {
   "cell_type": "markdown",
   "metadata": {},
   "source": [
    "### What is the total estimated underserved population at present?\n",
    "\n",
    "Using both HPSA geographic and population designations, which don't geographically overlap, but excluding facilities, which do"
   ]
  },
  {
   "cell_type": "code",
   "execution_count": 10,
   "metadata": {},
   "outputs": [],
   "source": [
    "HPSAsClean = HPSAs.drop_duplicates(subset='HPSA ID')\n",
    "HPSAsClean = HPSAsClean[(HPSAsClean['Designation Type'].isin(geoTypes)==True) | (HPSAsClean['Designation Type']=='HPSA Population')]"
   ]
  },
  {
   "cell_type": "code",
   "execution_count": 11,
   "metadata": {},
   "outputs": [],
   "source": [
    "years = [2015, 2016, 2017, 2018, 2019, 2020, 2021]"
   ]
  },
  {
   "cell_type": "code",
   "execution_count": 12,
   "metadata": {},
   "outputs": [],
   "source": [
    "populationFigs = []\n",
    "for year in years:\n",
    "    value = HPSAsClean[(HPSAsClean['HPSA Designation Year']<=year) \n",
    "                       & ((HPSAsClean['Withdrawn Date']>= np.datetime64(str(year)+'-12-31')) \n",
    "                          |HPSAsClean['Withdrawn Date'].isnull() == True)]['HPSA Designation Population'].sum()\n",
    "    populationFigs.append(value)"
   ]
  },
  {
   "cell_type": "code",
   "execution_count": 13,
   "metadata": {},
   "outputs": [
    {
     "data": {
      "text/plain": [
       "[96923783.0,\n",
       " 105031580.0,\n",
       " 120675494.0,\n",
       " 112816930.0,\n",
       " 114907038.0,\n",
       " 119746344.0,\n",
       " 128691227.0]"
      ]
     },
     "execution_count": 13,
     "metadata": {},
     "output_type": "execute_result"
    }
   ],
   "source": [
    "populationFigs"
   ]
  },
  {
   "cell_type": "markdown",
   "metadata": {},
   "source": [
    "A percent of the total population using \"Population Figs\" was calculated in Excel using population data from World Population Review, then copied into Datawrapper"
   ]
  },
  {
   "cell_type": "markdown",
   "metadata": {},
   "source": [
    "### How many of the non-rural, low-income HPSAs were designated during the pandemic?"
   ]
  },
  {
   "cell_type": "code",
   "execution_count": 14,
   "metadata": {},
   "outputs": [],
   "source": [
    "newLIPops = HPSAs[(HPSAs['Designation Type']=='HPSA Population')\n",
    "                  & (HPSAs['HPSA Designation Date']>=np.datetime64('2020-03-01'))\n",
    "                  & (HPSAs['HPSA Status']=='Designated')\n",
    "                  & (HPSAs['HPSA Population Type'].str.contains('Low Income'))]"
   ]
  },
  {
   "cell_type": "code",
   "execution_count": 15,
   "metadata": {},
   "outputs": [
    {
     "data": {
      "text/plain": [
       "1436"
      ]
     },
     "execution_count": 15,
     "metadata": {},
     "output_type": "execute_result"
    }
   ],
   "source": [
    "len(newLIPops)"
   ]
  },
  {
   "cell_type": "code",
   "execution_count": 16,
   "metadata": {},
   "outputs": [],
   "source": [
    "allLIPops = HPSAs[(HPSAs['Designation Type']=='HPSA Population')\n",
    "                  & (HPSAs['HPSA Status']=='Designated')\n",
    "                  & (HPSAs['HPSA Population Type'].str.contains('Low Income'))]"
   ]
  },
  {
   "cell_type": "code",
   "execution_count": 17,
   "metadata": {},
   "outputs": [
    {
     "data": {
      "text/plain": [
       "2869"
      ]
     },
     "execution_count": 17,
     "metadata": {},
     "output_type": "execute_result"
    }
   ],
   "source": [
    "len(allLIPops)"
   ]
  },
  {
   "cell_type": "code",
   "execution_count": 18,
   "metadata": {},
   "outputs": [
    {
     "data": {
      "text/plain": [
       "0.5005228302544441"
      ]
     },
     "execution_count": 18,
     "metadata": {},
     "output_type": "execute_result"
    }
   ],
   "source": [
    "len(newLIPops)/len(allLIPops)"
   ]
  },
  {
   "cell_type": "markdown",
   "metadata": {},
   "source": [
    "### Household Pulse Survey Data\n",
    "\n",
    "This section examines demand for mental health resources using the Census Bureau's Household Pulse survey. Demand for resources helps contextualize findings on the shortage of them. The Houshold Pulse Survey data can be found at https://www.census.gov/programs-surveys/household-pulse-survey/data.html. We used Health Tables 2a and 2b, on symptoms of depression and anxiety, respectively, and Table 4, on mental health activities in the past four weeks. "
   ]
  },
  {
   "cell_type": "code",
   "execution_count": 23,
   "metadata": {},
   "outputs": [],
   "source": [
    "def getNumber(filename, columns, row, location, skip): #column number(s) (0 indexed) as a list, row number minus 5\n",
    "    pulseDF = pd.read_excel(filename, sheet_name=location, skiprows=skip)\n",
    "    count = 0\n",
    "    for column in columns:\n",
    "        if pulseDF.iat[row, column] == '-':\n",
    "            count+= 0\n",
    "        else: \n",
    "            count+= pulseDF.iat[row, column]\n",
    "    return count"
   ]
  },
  {
   "cell_type": "code",
   "execution_count": 25,
   "metadata": {},
   "outputs": [],
   "source": [
    "def buildTable(filenamesList, columns, row, location, skip):\n",
    "    table = []\n",
    "    for f in filenamesList:\n",
    "        table.append(getNumber(f, columns, row, location, skip))\n",
    "    return table"
   ]
  },
  {
   "cell_type": "code",
   "execution_count": 2,
   "metadata": {},
   "outputs": [],
   "source": [
    "startWeek = 22\n",
    "endWeek = 39\n",
    "filenames_anxiety = ['health2a_week{}.xlsx'.format(i) for i in range(startWeek, endWeek + 1)]\n",
    "filenames_depression = ['health2b_week{}.xlsx'.format(i) for i in range(startWeek, endWeek + 1)]\n",
    "filenames_care = ['health4_week{}.xlsx'.format(i) for i in range(startWeek, endWeek + 1)]"
   ]
  },
  {
   "cell_type": "code",
   "execution_count": 42,
   "metadata": {},
   "outputs": [],
   "source": [
    "xlabels = ['{}'.format(i) for i in range(startWeek, endWeek + 1)]"
   ]
  },
  {
   "cell_type": "code",
   "execution_count": 19,
   "metadata": {},
   "outputs": [
    {
     "data": {
      "text/plain": [
       "[109522837.0,\n",
       " 114195211.0,\n",
       " 108967581.0,\n",
       " 107827623.0,\n",
       " 102520745.0,\n",
       " 97241988.0,\n",
       " 88194285.0,\n",
       " 87588148.0,\n",
       " 87694341.0,\n",
       " 85760436.0,\n",
       " 86796153.0,\n",
       " 84133947.0,\n",
       " 102968637.0,\n",
       " 102331095.0,\n",
       " 107247897.0,\n",
       " 105685952.0,\n",
       " 103866819.0,\n",
       " 102607890.0]"
      ]
     },
     "execution_count": 19,
     "metadata": {},
     "output_type": "execute_result"
    }
   ],
   "source": [
    "#Anxiety table\n",
    "buildTable(filenames_anxiety, [7,8,9], 1, 'US', 6)"
   ]
  },
  {
   "cell_type": "code",
   "execution_count": 27,
   "metadata": {},
   "outputs": [
    {
     "data": {
      "text/plain": [
       "[<matplotlib.lines.Line2D at 0x122efc040>]"
      ]
     },
     "execution_count": 27,
     "metadata": {},
     "output_type": "execute_result"
    },
    {
     "data": {
      "image/png": "[encoded data removed]",
      "text/plain": [
       "<Figure size 432x288 with 1 Axes>"
      ]
     },
     "metadata": {
      "needs_background": "light"
     },
     "output_type": "display_data"
    }
   ],
   "source": [
    "plt.plot(buildTable(filenames_anxiety, [7,8,9], 1, 'US', 6),label='Anxiety')"
   ]
  },
  {
   "cell_type": "code",
   "execution_count": 37,
   "metadata": {},
   "outputs": [
    {
     "data": {
      "text/plain": [
       "[<matplotlib.lines.Line2D at 0x122eb9300>]"
      ]
     },
     "execution_count": 37,
     "metadata": {},
     "output_type": "execute_result"
    },
    {
     "data": {
      "image/png": "[encoded data removed]",
      "text/plain": [
       "<Figure size 432x288 with 1 Axes>"
      ]
     },
     "metadata": {
      "needs_background": "light"
     },
     "output_type": "display_data"
    }
   ],
   "source": [
    "plt.plot(buildTable(filenames_depression, [7,8,9], 1, 'US', 6),label='Depression')"
   ]
  },
  {
   "cell_type": "code",
   "execution_count": 36,
   "metadata": {},
   "outputs": [
    {
     "data": {
      "text/plain": [
       "[102961129.0,\n",
       " 107832064.0,\n",
       " 103998712.0,\n",
       " 102070011.0,\n",
       " 98823244.0,\n",
       " 92350923.0,\n",
       " 84859301.0,\n",
       " 84067864.0,\n",
       " 83837557.0,\n",
       " 81020344.0,\n",
       " 82392254.0,\n",
       " 80108963.0,\n",
       " 96348274.0,\n",
       " 95211365.0,\n",
       " 99717194.0,\n",
       " 100142940.0,\n",
       " 98065426.0,\n",
       " 96035429.0]"
      ]
     },
     "execution_count": 36,
     "metadata": {},
     "output_type": "execute_result"
    }
   ],
   "source": [
    "(buildTable(filenames_depression, [7,8,9], 1, 'US', 6))"
   ]
  },
  {
   "cell_type": "code",
   "execution_count": 33,
   "metadata": {},
   "outputs": [
    {
     "data": {
      "text/plain": [
       "[<matplotlib.lines.Line2D at 0x122e082b0>]"
      ]
     },
     "execution_count": 33,
     "metadata": {},
     "output_type": "execute_result"
    },
    {
     "data": {
      "image/png": "[encoded data removed]",
      "text/plain": [
       "<Figure size 432x288 with 1 Axes>"
      ]
     },
     "metadata": {
      "needs_background": "light"
     },
     "output_type": "display_data"
    }
   ],
   "source": [
    "plt.plot(buildTable(filenames_care, [6], 1, 'US', 5),label='Needed counseling but did not get it')"
   ]
  },
  {
   "cell_type": "code",
   "execution_count": 32,
   "metadata": {},
   "outputs": [
    {
     "data": {
      "text/plain": [
       "[164690139.0,\n",
       " 169699637.0,\n",
       " 168351930.0,\n",
       " 166787484.0,\n",
       " 164954665.0,\n",
       " 164349566.0,\n",
       " 163206319.0,\n",
       " 164326982.0,\n",
       " 166475872.0,\n",
       " 164868625.0,\n",
       " 165168675.0,\n",
       " 163717671.0,\n",
       " 183803880.0,\n",
       " 184499640.0,\n",
       " 184574293.0,\n",
       " 183279934.0,\n",
       " 181394767.0,\n",
       " 181981354.0]"
      ]
     },
     "execution_count": 32,
     "metadata": {},
     "output_type": "execute_result"
    }
   ],
   "source": [
    "(buildTable(filenames_care, [6], 1, 'US', 5))"
   ]
  },
  {
   "cell_type": "code",
   "execution_count": 43,
   "metadata": {},
   "outputs": [
    {
     "data": {
      "image/png": "[encoded data removed]",
      "text/plain": [
       "<Figure size 432x288 with 1 Axes>"
      ]
     },
     "metadata": {
      "needs_background": "light"
     },
     "output_type": "display_data"
    }
   ],
   "source": [
    "plt.plot(xlabels, buildTable(filenames_anxiety, [7,8,9], 1, 'US', 6),label='Anxiety')\n",
    "plt.plot(xlabels, buildTable(filenames_depression, [7,8,9], 1, 'US', 6),label='Depression')\n",
    "plt.legend()\n",
    "plt.show()"
   ]
  },
  {
   "cell_type": "code",
   "execution_count": 44,
   "metadata": {},
   "outputs": [
    {
     "data": {
      "text/plain": [
       "[<matplotlib.lines.Line2D at 0x122bc94e0>]"
      ]
     },
     "execution_count": 44,
     "metadata": {},
     "output_type": "execute_result"
    },
    {
     "data": {
      "image/png": "[encoded data removed]",
      "text/plain": [
       "<Figure size 432x288 with 1 Axes>"
      ]
     },
     "metadata": {
      "needs_background": "light"
     },
     "output_type": "display_data"
    }
   ],
   "source": [
    "plt.plot(xlabels, buildTable(filenames_care, [6], 1, 'US', 5),label='Needed counseling but did not get it')"
   ]
  },
  {
   "cell_type": "code",
   "execution_count": null,
   "metadata": {},
   "outputs": [],
   "source": []
  }
 ],
 "metadata": {
  "kernelspec": {
   "display_name": "Python 3 (ipykernel)",
   "language": "python",
   "name": "python3"
  },
  "language_info": {
   "codemirror_mode": {
    "name": "ipython",
    "version": 3
   },
   "file_extension": ".py",
   "mimetype": "text/x-python",
   "name": "python",
   "nbconvert_exporter": "python",
   "pygments_lexer": "ipython3",
   "version": "3.10.0"
  }
 },
 "nbformat": 4,
 "nbformat_minor": 2
}
